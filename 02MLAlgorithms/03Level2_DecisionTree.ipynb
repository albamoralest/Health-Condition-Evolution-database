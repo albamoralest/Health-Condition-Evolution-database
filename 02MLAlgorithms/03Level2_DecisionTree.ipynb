{
 "cells": [
  {
   "cell_type": "markdown",
   "metadata": {},
   "source": [
    "# Decision tree (level 1)"
   ]
  },
  {
   "cell_type": "code",
   "execution_count": 16,
   "metadata": {},
   "outputs": [],
   "source": [
    "import pandas as pd\n",
    "from _datetime import date\n",
    "import pickle\n",
    "from io import StringIO\n",
    "import numpy as np\n",
    "\n",
    "import matplotlib.pyplot as plt\n",
    "from matplotlib.colors import ListedColormap\n",
    "\n",
    "# from transformers import (AutoTokenizer,\n",
    "#                           AutoModelForMaskedLM)\n",
    "# from sklearn.feature_extraction.text import TfidfVectorizer\n",
    "from sklearn.feature_extraction.text import TfidfTransformer\n",
    "from sklearn.feature_extraction.text import CountVectorizer\n",
    "from sklearn.metrics import accuracy_score\n",
    "from sklearn.metrics import classification_report\n",
    "from sklearn.model_selection import train_test_split\n",
    "from sklearn.feature_selection import chi2\n",
    "from sklearn.pipeline import Pipeline\n",
    "from sklearn import tree\n",
    "from sklearn.tree import export_text"
   ]
  },
  {
   "cell_type": "code",
   "execution_count": 17,
   "metadata": {},
   "outputs": [
    {
     "data": {
      "text/html": [
       "<div>\n",
       "<style scoped>\n",
       "    .dataframe tbody tr th:only-of-type {\n",
       "        vertical-align: middle;\n",
       "    }\n",
       "\n",
       "    .dataframe tbody tr th {\n",
       "        vertical-align: top;\n",
       "    }\n",
       "\n",
       "    .dataframe thead th {\n",
       "        text-align: right;\n",
       "    }\n",
       "</style>\n",
       "<table border=\"1\" class=\"dataframe\">\n",
       "  <thead>\n",
       "    <tr style=\"text-align: right;\">\n",
       "      <th></th>\n",
       "      <th>source</th>\n",
       "      <th>condition</th>\n",
       "      <th>CEsnippet</th>\n",
       "      <th>Sentence</th>\n",
       "      <th>newTag</th>\n",
       "    </tr>\n",
       "  </thead>\n",
       "  <tbody>\n",
       "    <tr>\n",
       "      <th>0</th>\n",
       "      <td>MAYO</td>\n",
       "      <td>Acute kidney failure</td>\n",
       "      <td>Acute kidney failure — also called acute renal...</td>\n",
       "      <td>Acute kidney failure — also called acute renal...</td>\n",
       "      <td>FAST</td>\n",
       "    </tr>\n",
       "    <tr>\n",
       "      <th>1</th>\n",
       "      <td>MAYO</td>\n",
       "      <td>Systemic mastocytosis</td>\n",
       "      <td>Another type, aggressive systemic mastocytosis...</td>\n",
       "      <td>Another type, aggressive systemic mastocytosis...</td>\n",
       "      <td>FAST</td>\n",
       "    </tr>\n",
       "    <tr>\n",
       "      <th>2</th>\n",
       "      <td>MAYO</td>\n",
       "      <td>Plague</td>\n",
       "      <td>Pneumonic plague progresses rapidly and may ca...</td>\n",
       "      <td>Pneumonic plague progresses rapidly and may ca...</td>\n",
       "      <td>FAST</td>\n",
       "    </tr>\n",
       "    <tr>\n",
       "      <th>3</th>\n",
       "      <td>MAYO</td>\n",
       "      <td>Dermatographia</td>\n",
       "      <td>Rarely, dermatographia develops more slowly an...</td>\n",
       "      <td>Rarely, dermatographia develops more slowly an...</td>\n",
       "      <td>FAST</td>\n",
       "    </tr>\n",
       "    <tr>\n",
       "      <th>4</th>\n",
       "      <td>NHS</td>\n",
       "      <td>Epiglottitis</td>\n",
       "      <td>The symptoms of epiglottitis usually develop q...</td>\n",
       "      <td>The symptoms of epiglottitis usually develop q...</td>\n",
       "      <td>FAST</td>\n",
       "    </tr>\n",
       "  </tbody>\n",
       "</table>\n",
       "</div>"
      ],
      "text/plain": [
       "  source              condition  \\\n",
       "0   MAYO   Acute kidney failure   \n",
       "1   MAYO  Systemic mastocytosis   \n",
       "2   MAYO                 Plague   \n",
       "3   MAYO         Dermatographia   \n",
       "4    NHS           Epiglottitis   \n",
       "\n",
       "                                           CEsnippet  \\\n",
       "0  Acute kidney failure — also called acute renal...   \n",
       "1  Another type, aggressive systemic mastocytosis...   \n",
       "2  Pneumonic plague progresses rapidly and may ca...   \n",
       "3  Rarely, dermatographia develops more slowly an...   \n",
       "4  The symptoms of epiglottitis usually develop q...   \n",
       "\n",
       "                                            Sentence newTag  \n",
       "0  Acute kidney failure — also called acute renal...   FAST  \n",
       "1  Another type, aggressive systemic mastocytosis...   FAST  \n",
       "2  Pneumonic plague progresses rapidly and may ca...   FAST  \n",
       "3  Rarely, dermatographia develops more slowly an...   FAST  \n",
       "4  The symptoms of epiglottitis usually develop q...   FAST  "
      ]
     },
     "execution_count": 17,
     "metadata": {},
     "output_type": "execute_result"
    }
   ],
   "source": [
    "# df = pd.read_csv('../01trainingdataset/2021-01-11_datasetSecondLevel.csv')\n",
    "# df = pd.read_csv('../01trainingdataset/2021-01-20_datasetSecondLevel.csv')\n",
    "df = pd.read_csv('../../01trainingdataset/dataset/2021-06-06_datasetSecondLevel.csv')\n",
    "df.head()"
   ]
  },
  {
   "cell_type": "code",
   "execution_count": 18,
   "metadata": {},
   "outputs": [
    {
     "data": {
      "image/png": "[encoded data removed]",
      "text/plain": [
       "<Figure size 576x432 with 1 Axes>"
      ]
     },
     "metadata": {
      "needs_background": "light"
     },
     "output_type": "display_data"
    }
   ],
   "source": [
    "fig = plt.figure(figsize=(8,6))\n",
    "df.groupby('newTag').Sentence.count().plot.bar(ylim=0)\n",
    "plt.show()"
   ]
  },
  {
   "cell_type": "code",
   "execution_count": 19,
   "metadata": {},
   "outputs": [],
   "source": [
    "X = df.Sentence\n",
    "y = df.newTag\n",
    "X_train, X_test, y_train, y_test = train_test_split(X, y, test_size=0.3, random_state = 12,stratify=y)"
   ]
  },
  {
   "cell_type": "code",
   "execution_count": 20,
   "metadata": {},
   "outputs": [
    {
     "data": {
      "text/plain": [
       "Pipeline(steps=[('vect', CountVectorizer()), ('tfidf', TfidfTransformer()),\n",
       "                ('clf', DecisionTreeClassifier(random_state=12))])"
      ]
     },
     "execution_count": 20,
     "metadata": {},
     "output_type": "execute_result"
    }
   ],
   "source": [
    "tr = Pipeline([('vect', CountVectorizer()),\n",
    "               ('tfidf', TfidfTransformer(use_idf=True,smooth_idf=True,norm='l2')),\n",
    "               ('clf', tree.DecisionTreeClassifier(random_state=12)),\n",
    "               #('clf', tree.DecisionTreeClassifier(random_state=12,class_weight='balanced')),\n",
    "              ])\n",
    "tr.fit(X_train, y_train)"
   ]
  },
  {
   "cell_type": "code",
   "execution_count": 22,
   "metadata": {},
   "outputs": [
    {
     "name": "stdout",
     "output_type": "stream",
     "text": [
      "accuracy 0.8934426229508197\n",
      "              precision    recall  f1-score   support\n",
      "\n",
      "        FAST       0.94      0.97      0.96        35\n",
      "  MODERATELY       0.91      0.86      0.88        49\n",
      "      SLOWLY       0.82      0.87      0.85        38\n",
      "\n",
      "    accuracy                           0.89       122\n",
      "   macro avg       0.89      0.90      0.90       122\n",
      "weighted avg       0.89      0.89      0.89       122\n",
      "\n",
      "CPU times: user 23.7 ms, sys: 0 ns, total: 23.7 ms\n",
      "Wall time: 24.3 ms\n"
     ]
    }
   ],
   "source": [
    "%%time\n",
    "\n",
    "y_pred = tr.predict(X_test)\n",
    "\n",
    "print('accuracy %s' % accuracy_score(y_pred, y_test))\n",
    "print(classification_report(y_test, y_pred))"
   ]
  },
  {
   "cell_type": "code",
   "execution_count": 23,
   "metadata": {},
   "outputs": [],
   "source": [
    "newdf = pd.DataFrame({'testSentence': X_test.values})\n",
    "newdf['testTag'] = y_test.values\n",
    "newdf['predictedTag'] = y_pred"
   ]
  },
  {
   "cell_type": "code",
   "execution_count": 24,
   "metadata": {},
   "outputs": [
    {
     "data": {
      "text/plain": [
       "MODERATELY    49\n",
       "SLOWLY        38\n",
       "FAST          35\n",
       "Name: testTag, dtype: int64"
      ]
     },
     "execution_count": 24,
     "metadata": {},
     "output_type": "execute_result"
    }
   ],
   "source": [
    "newdf.testTag.value_counts(dropna=False)"
   ]
  },
  {
   "cell_type": "code",
   "execution_count": 25,
   "metadata": {},
   "outputs": [
    {
     "data": {
      "text/plain": [
       "MODERATELY    46\n",
       "SLOWLY        40\n",
       "FAST          36\n",
       "Name: predictedTag, dtype: int64"
      ]
     },
     "execution_count": 25,
     "metadata": {},
     "output_type": "execute_result"
    }
   ],
   "source": [
    "newdf.predictedTag.value_counts(dropna=False)"
   ]
  },
  {
   "cell_type": "code",
   "execution_count": 26,
   "metadata": {},
   "outputs": [],
   "source": [
    "newdf.to_csv('03Level2/'+str(date.today())+'_DT_testingDataResult.csv')"
   ]
  },
  {
   "cell_type": "code",
   "execution_count": 27,
   "metadata": {},
   "outputs": [],
   "source": [
    "newdf['flag'] = (newdf['testTag'] == newdf['predictedTag'])\n",
    "flag = [False]\n",
    "errors = newdf[newdf.flag.isin(flag)]\n",
    "#errors.head(39)"
   ]
  },
  {
   "cell_type": "markdown",
   "metadata": {},
   "source": [
    "# Saving the model"
   ]
  },
  {
   "cell_type": "code",
   "execution_count": 28,
   "metadata": {},
   "outputs": [],
   "source": [
    "#Save the model\n",
    "filename = 'models/'+str(date.today())+'_Level2_DecisionTree.pkl'\n",
    "pickle.dump(tr, open(filename, 'wb'))\n",
    "# Close the pickle instances\n",
    "#pickle.close()"
   ]
  },
  {
   "cell_type": "markdown",
   "metadata": {},
   "source": [
    "# Plotting results"
   ]
  },
  {
   "cell_type": "code",
   "execution_count": null,
   "metadata": {},
   "outputs": [],
   "source": [
    "X_set, y_set = X_test, y_test\n",
    "X1, X2 = np.meshgrid(np.arange(start = X_set[:, 0].min() - 1, stop = X_set[:, 0].max() + 1, step = 0.01),\n",
    "                     np.arange(start = X_set[:, 1].min() - 1, stop = X_set[:, 1].max() + 1, step = 0.01))\n",
    "plt.contourf(X1, X2, classifier.predict(np.array([X1.ravel(), X2.ravel()]).T).reshape(X1.shape),\n",
    "             alpha = 0.75, cmap = ListedColormap(('red', 'green')))\n",
    "plt.xlim(X1.min(), X1.max())\n",
    "plt.ylim(X2.min(), X2.max())\n",
    "for i, j in enumerate(np.unique(y_set)):\n",
    "    plt.scatter(X_set[y_set == j, 0], X_set[y_set == j, 1],\n",
    "                c = ListedColormap(('red', 'green'))(i), label = j)\n",
    "plt.title('Logistic Regression')\n",
    "plt.xlabel('DMV_Test_1')\n",
    "plt.ylabel('DMV_Test_2')\n",
    "plt.legend()\n",
    "plt.show()"
   ]
  },
  {
   "cell_type": "code",
   "execution_count": null,
   "metadata": {},
   "outputs": [],
   "source": []
  }
 ],
 "metadata": {
  "kernelspec": {
   "display_name": "Python 3",
   "language": "python",
   "name": "python3"
  },
  "language_info": {
   "codemirror_mode": {
    "name": "ipython",
    "version": 3
   },
   "file_extension": ".py",
   "mimetype": "text/x-python",
   "name": "python",
   "nbconvert_exporter": "python",
   "pygments_lexer": "ipython3",
   "version": "3.8.6"
  }
 },
 "nbformat": 4,
 "nbformat_minor": 4
}
