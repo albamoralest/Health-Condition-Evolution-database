{
 "cells": [
  {
   "cell_type": "markdown",
   "metadata": {},
   "source": [
    "# Boolean classifier - Logistic Regression (level 0)"
   ]
  },
  {
   "cell_type": "code",
   "execution_count": 23,
   "metadata": {},
   "outputs": [],
   "source": [
    "import pandas as pd\n",
    "import matplotlib.pyplot as plt\n",
    "from io import StringIO\n",
    "from _datetime import date\n",
    "import numpy as np\n",
    "import seaborn as sns\n",
    "import pickle \n",
    "\n",
    "from sklearn.feature_selection import chi2\n",
    "from sklearn.pipeline import Pipeline\n",
    "from sklearn.feature_extraction.text import TfidfTransformer\n",
    "from sklearn.metrics import accuracy_score\n",
    "from sklearn.metrics import classification_report\n",
    "from sklearn.model_selection import learning_curve \n",
    "from sklearn.model_selection import validation_curve\n",
    "from sklearn.model_selection import train_test_split\n",
    "from sklearn.feature_extraction.text import CountVectorizer\n",
    "from sklearn.linear_model import LogisticRegression\n",
    "from sklearn import linear_model"
   ]
  },
  {
   "cell_type": "code",
   "execution_count": 24,
   "metadata": {},
   "outputs": [
    {
     "data": {
      "text/html": [
       "<div>\n",
       "<style scoped>\n",
       "    .dataframe tbody tr th:only-of-type {\n",
       "        vertical-align: middle;\n",
       "    }\n",
       "\n",
       "    .dataframe tbody tr th {\n",
       "        vertical-align: top;\n",
       "    }\n",
       "\n",
       "    .dataframe thead th {\n",
       "        text-align: right;\n",
       "    }\n",
       "</style>\n",
       "<table border=\"1\" class=\"dataframe\">\n",
       "  <thead>\n",
       "    <tr style=\"text-align: right;\">\n",
       "      <th></th>\n",
       "      <th>source</th>\n",
       "      <th>condition</th>\n",
       "      <th>CEsnippet</th>\n",
       "      <th>Sentence</th>\n",
       "      <th>newTag</th>\n",
       "      <th>binTag</th>\n",
       "      <th>reviewedTag</th>\n",
       "    </tr>\n",
       "  </thead>\n",
       "  <tbody>\n",
       "    <tr>\n",
       "      <th>0</th>\n",
       "      <td>MAYO</td>\n",
       "      <td>Acute kidney failure</td>\n",
       "      <td>Acute kidney failure — also called acute renal...</td>\n",
       "      <td>Acute kidney failure — also called acute renal...</td>\n",
       "      <td>YES</td>\n",
       "      <td>1</td>\n",
       "      <td>DECLINE FAST FROM 1 DAY TO 1 WEEK</td>\n",
       "    </tr>\n",
       "    <tr>\n",
       "      <th>1</th>\n",
       "      <td>MAYO</td>\n",
       "      <td>Systemic mastocytosis</td>\n",
       "      <td>Another type, aggressive systemic mastocytosis...</td>\n",
       "      <td>Another type, aggressive systemic mastocytosis...</td>\n",
       "      <td>YES</td>\n",
       "      <td>1</td>\n",
       "      <td>DECLINE FAST FROM 1 DAY TO 1 WEEK</td>\n",
       "    </tr>\n",
       "    <tr>\n",
       "      <th>2</th>\n",
       "      <td>MAYO</td>\n",
       "      <td>Plague</td>\n",
       "      <td>Pneumonic plague progresses rapidly and may ca...</td>\n",
       "      <td>Pneumonic plague progresses rapidly and may ca...</td>\n",
       "      <td>YES</td>\n",
       "      <td>1</td>\n",
       "      <td>DECLINE FAST FROM 1 DAY TO 1 WEEK</td>\n",
       "    </tr>\n",
       "    <tr>\n",
       "      <th>3</th>\n",
       "      <td>MAYO</td>\n",
       "      <td>Dermatographia</td>\n",
       "      <td>Rarely, dermatographia develops more slowly an...</td>\n",
       "      <td>Rarely, dermatographia develops more slowly an...</td>\n",
       "      <td>YES</td>\n",
       "      <td>1</td>\n",
       "      <td>DECLINE FAST FROM 1 DAY TO 1 WEEK</td>\n",
       "    </tr>\n",
       "    <tr>\n",
       "      <th>4</th>\n",
       "      <td>NHS</td>\n",
       "      <td>Epiglottitis</td>\n",
       "      <td>The symptoms of epiglottitis usually develop q...</td>\n",
       "      <td>The symptoms of epiglottitis usually develop q...</td>\n",
       "      <td>YES</td>\n",
       "      <td>1</td>\n",
       "      <td>DECLINE FAST FROM 1 DAY TO 1 WEEK</td>\n",
       "    </tr>\n",
       "  </tbody>\n",
       "</table>\n",
       "</div>"
      ],
      "text/plain": [
       "  source              condition  \\\n",
       "0   MAYO   Acute kidney failure   \n",
       "1   MAYO  Systemic mastocytosis   \n",
       "2   MAYO                 Plague   \n",
       "3   MAYO         Dermatographia   \n",
       "4    NHS           Epiglottitis   \n",
       "\n",
       "                                           CEsnippet  \\\n",
       "0  Acute kidney failure — also called acute renal...   \n",
       "1  Another type, aggressive systemic mastocytosis...   \n",
       "2  Pneumonic plague progresses rapidly and may ca...   \n",
       "3  Rarely, dermatographia develops more slowly an...   \n",
       "4  The symptoms of epiglottitis usually develop q...   \n",
       "\n",
       "                                            Sentence newTag  binTag  \\\n",
       "0  Acute kidney failure — also called acute renal...    YES       1   \n",
       "1  Another type, aggressive systemic mastocytosis...    YES       1   \n",
       "2  Pneumonic plague progresses rapidly and may ca...    YES       1   \n",
       "3  Rarely, dermatographia develops more slowly an...    YES       1   \n",
       "4  The symptoms of epiglottitis usually develop q...    YES       1   \n",
       "\n",
       "                         reviewedTag  \n",
       "0  DECLINE FAST FROM 1 DAY TO 1 WEEK  \n",
       "1  DECLINE FAST FROM 1 DAY TO 1 WEEK  \n",
       "2  DECLINE FAST FROM 1 DAY TO 1 WEEK  \n",
       "3  DECLINE FAST FROM 1 DAY TO 1 WEEK  \n",
       "4  DECLINE FAST FROM 1 DAY TO 1 WEEK  "
      ]
     },
     "execution_count": 24,
     "metadata": {},
     "output_type": "execute_result"
    }
   ],
   "source": [
    "#df = pd.read_csv('../01trainingdataset/2020-12-21_datasetBoolean.csv')\n",
    "#df = pd.read_csv('../01trainingdataset/2021-01-11_datasetCeroLevelBinary.csv')\n",
    "# df = pd.read_csv('../01trainingdataset/2021-01-16_datasetCeroLevelBinary.csv')\n",
    "# df = pd.read_csv('../01trainingdataset/2021-01-20_datasetCeroLevelBinary.csv')\n",
    "df = pd.read_csv('../../01trainingdataset/dataset/2021-06-06_datasetCeroLevelBinary.csv')\n",
    "df.head()"
   ]
  },
  {
   "cell_type": "code",
   "execution_count": 25,
   "metadata": {},
   "outputs": [
    {
     "name": "stdout",
     "output_type": "stream",
     "text": [
      "<class 'pandas.core.frame.DataFrame'>\n",
      "RangeIndex: 1983 entries, 0 to 1982\n",
      "Data columns (total 7 columns):\n",
      " #   Column       Non-Null Count  Dtype \n",
      "---  ------       --------------  ----- \n",
      " 0   source       1983 non-null   object\n",
      " 1   condition    1983 non-null   object\n",
      " 2   CEsnippet    1981 non-null   object\n",
      " 3   Sentence     1983 non-null   object\n",
      " 4   newTag       1983 non-null   object\n",
      " 5   binTag       1983 non-null   int64 \n",
      " 6   reviewedTag  1983 non-null   object\n",
      "dtypes: int64(1), object(6)\n",
      "memory usage: 108.6+ KB\n"
     ]
    }
   ],
   "source": [
    "df.info()"
   ]
  },
  {
   "cell_type": "code",
   "execution_count": 26,
   "metadata": {},
   "outputs": [
    {
     "data": {
      "image/png": "[encoded data removed]",
      "text/plain": [
       "<Figure size 576x432 with 1 Axes>"
      ]
     },
     "metadata": {
      "needs_background": "light"
     },
     "output_type": "display_data"
    }
   ],
   "source": [
    "fig = plt.figure(figsize=(8,6))\n",
    "df.groupby('newTag').Sentence.count().plot.bar(ylim=0)\n",
    "plt.show()"
   ]
  },
  {
   "cell_type": "code",
   "execution_count": 88,
   "metadata": {},
   "outputs": [],
   "source": [
    "X = df.Sentence\n",
    "y = df.binTag\n",
    "#Changing the test_size parameter from 0.2 to 0.3 improves the accuracy from .79 to .83\n",
    "X_train, X_test, y_train, y_test = train_test_split(X, y, test_size=0.2,stratify=y,random_state=12)"
   ]
  },
  {
   "cell_type": "code",
   "execution_count": 89,
   "metadata": {},
   "outputs": [],
   "source": [
    "#class_weight parameter used during model fitting to assing a larger penalty to wrong predictions on the minority class \n",
    "logreg = Pipeline([('vect', CountVectorizer()),\n",
    "                ('tfidf', TfidfTransformer(use_idf=True,smooth_idf=True,norm='l2')),\n",
    "                #('clf', linear_model.LogisticRegression(n_jobs=1, C=1e3,solver='newton-cg', multi_class='multinomial',max_iter=1000)),\n",
    "                ('clf', linear_model.LogisticRegression(n_jobs=1, C=1000,solver='liblinear', multi_class='ovr',max_iter=1000,class_weight='balanced',random_state=12)),\n",
    "                 #('clf', linear_model.LogisticRegression(n_jobs=1, C=10,solver='lbfgs', multi_class='ovr',max_iter=10000)),\n",
    "                #('clf', linear_model.LogisticRegression(n_jobs=1, C=10,solver='newton-cg', multi_class='multinomial',max_iter=100,class_weight='balanced')),\n",
    "               ])\n"
   ]
  },
  {
   "cell_type": "code",
   "execution_count": 90,
   "metadata": {},
   "outputs": [
    {
     "data": {
      "text/plain": [
       "Pipeline(steps=[('vect', CountVectorizer()), ('tfidf', TfidfTransformer()),\n",
       "                ('clf',\n",
       "                 LogisticRegression(C=1000, class_weight='balanced',\n",
       "                                    max_iter=1000, multi_class='ovr', n_jobs=1,\n",
       "                                    random_state=12, solver='liblinear'))])"
      ]
     },
     "execution_count": 90,
     "metadata": {},
     "output_type": "execute_result"
    }
   ],
   "source": [
    "logreg.fit(X_train, y_train)"
   ]
  },
  {
   "cell_type": "code",
   "execution_count": 91,
   "metadata": {},
   "outputs": [
    {
     "name": "stdout",
     "output_type": "stream",
     "text": [
      "CPU times: user 10.4 ms, sys: 0 ns, total: 10.4 ms\n",
      "Wall time: 11.5 ms\n"
     ]
    }
   ],
   "source": [
    "%%time\n",
    "y_pred = logreg.predict(X_test)"
   ]
  },
  {
   "cell_type": "code",
   "execution_count": 92,
   "metadata": {},
   "outputs": [
    {
     "name": "stdout",
     "output_type": "stream",
     "text": [
      "accuracy 0.8816120906801007\n",
      "              precision    recall  f1-score   support\n",
      "\n",
      "           0       0.93      0.91      0.92       288\n",
      "           1       0.77      0.82      0.79       109\n",
      "\n",
      "    accuracy                           0.88       397\n",
      "   macro avg       0.85      0.86      0.85       397\n",
      "weighted avg       0.88      0.88      0.88       397\n",
      "\n"
     ]
    }
   ],
   "source": [
    "#Results\n",
    "print('accuracy %s' % accuracy_score(y_test,y_pred))\n",
    "print(classification_report(y_test, y_pred))"
   ]
  },
  {
   "cell_type": "code",
   "execution_count": 71,
   "metadata": {},
   "outputs": [
    {
     "name": "stdout",
     "output_type": "stream",
     "text": [
      "<class 'pandas.core.frame.DataFrame'>\n",
      "RangeIndex: 595 entries, 0 to 594\n",
      "Data columns (total 3 columns):\n",
      " #   Column        Non-Null Count  Dtype \n",
      "---  ------        --------------  ----- \n",
      " 0   testSentence  595 non-null    object\n",
      " 1   testTag       595 non-null    int64 \n",
      " 2   predictedTag  595 non-null    int64 \n",
      "dtypes: int64(2), object(1)\n",
      "memory usage: 14.1+ KB\n"
     ]
    }
   ],
   "source": [
    "newdf = pd.DataFrame({'testSentence': X_test.values})\n",
    "newdf['testTag'] = y_test.values\n",
    "newdf['predictedTag'] = y_pred\n",
    "newdf.info()"
   ]
  },
  {
   "cell_type": "code",
   "execution_count": 72,
   "metadata": {},
   "outputs": [
    {
     "data": {
      "text/plain": [
       "0    431\n",
       "1    164\n",
       "Name: testTag, dtype: int64"
      ]
     },
     "execution_count": 72,
     "metadata": {},
     "output_type": "execute_result"
    }
   ],
   "source": [
    "newdf.testTag.value_counts(dropna=False)"
   ]
  },
  {
   "cell_type": "code",
   "execution_count": 73,
   "metadata": {},
   "outputs": [
    {
     "data": {
      "text/plain": [
       "0    428\n",
       "1    167\n",
       "Name: predictedTag, dtype: int64"
      ]
     },
     "execution_count": 73,
     "metadata": {},
     "output_type": "execute_result"
    }
   ],
   "source": [
    "newdf.predictedTag.value_counts(dropna=False)"
   ]
  },
  {
   "cell_type": "code",
   "execution_count": 74,
   "metadata": {},
   "outputs": [],
   "source": [
    "newdf.to_csv('01Level0/'+str(date.today())+'_LR_testingDataResult.csv', index = True)"
   ]
  },
  {
   "cell_type": "code",
   "execution_count": 75,
   "metadata": {},
   "outputs": [],
   "source": [
    "newdf['flag'] = (newdf['testTag'] == newdf['predictedTag'])\n",
    "flag = [False]\n",
    "errors = newdf[newdf.flag.isin(flag)]"
   ]
  },
  {
   "cell_type": "code",
   "execution_count": 76,
   "metadata": {},
   "outputs": [
    {
     "data": {
      "text/plain": [
       "True     530\n",
       "False     65\n",
       "Name: flag, dtype: int64"
      ]
     },
     "execution_count": 76,
     "metadata": {},
     "output_type": "execute_result"
    }
   ],
   "source": [
    "newdf.flag.value_counts()"
   ]
  },
  {
   "cell_type": "markdown",
   "metadata": {},
   "source": [
    "# Saving the model"
   ]
  },
  {
   "cell_type": "code",
   "execution_count": 77,
   "metadata": {},
   "outputs": [],
   "source": [
    "#Save the model\n",
    "filename = 'models/'+str(date.today())+'_Level0_LR.pkl'\n",
    "# filename = '2021-01-11_Level0_LR.pkl'\n",
    "pickle.dump(logreg, open(filename, 'wb'))"
   ]
  },
  {
   "cell_type": "code",
   "execution_count": 9,
   "metadata": {},
   "outputs": [],
   "source": [
    "#Load the model\n",
    "filename = '2021-01-11_Level0_LR.pkl'\n",
    "nb_model_read = pickle.load(open(filename, 'rb'))"
   ]
  },
  {
   "cell_type": "code",
   "execution_count": 10,
   "metadata": {},
   "outputs": [
    {
     "name": "stdout",
     "output_type": "stream",
     "text": [
      "memory -> None\n",
      "steps -> [('vect', CountVectorizer()), ('tfidf', TfidfTransformer()), ('clf', LogisticRegression(C=1000.0, max_iter=4000, multi_class='ovr', n_jobs=1,\n",
      "                   solver='liblinear'))]\n",
      "verbose -> False\n",
      "vect -> CountVectorizer()\n",
      "tfidf -> TfidfTransformer()\n",
      "clf -> LogisticRegression(C=1000.0, max_iter=4000, multi_class='ovr', n_jobs=1,\n",
      "                   solver='liblinear')\n",
      "vect__analyzer -> word\n",
      "vect__binary -> False\n",
      "vect__decode_error -> strict\n",
      "vect__dtype -> <class 'numpy.int64'>\n",
      "vect__encoding -> utf-8\n",
      "vect__input -> content\n",
      "vect__lowercase -> True\n",
      "vect__max_df -> 1.0\n",
      "vect__max_features -> None\n",
      "vect__min_df -> 1\n",
      "vect__ngram_range -> (1, 1)\n",
      "vect__preprocessor -> None\n",
      "vect__stop_words -> None\n",
      "vect__strip_accents -> None\n",
      "vect__token_pattern -> (?u)\\b\\w\\w+\\b\n",
      "vect__tokenizer -> None\n",
      "vect__vocabulary -> None\n",
      "tfidf__norm -> l2\n",
      "tfidf__smooth_idf -> True\n",
      "tfidf__sublinear_tf -> False\n",
      "tfidf__use_idf -> True\n",
      "clf__C -> 1000.0\n",
      "clf__class_weight -> None\n",
      "clf__dual -> False\n",
      "clf__fit_intercept -> True\n",
      "clf__intercept_scaling -> 1\n",
      "clf__l1_ratio -> None\n",
      "clf__max_iter -> 4000\n",
      "clf__multi_class -> ovr\n",
      "clf__n_jobs -> 1\n",
      "clf__penalty -> l2\n",
      "clf__random_state -> None\n",
      "clf__solver -> liblinear\n",
      "clf__tol -> 0.0001\n",
      "clf__verbose -> 0\n",
      "clf__warm_start -> False\n"
     ]
    }
   ],
   "source": [
    "for param, value in nb_model_read.get_params(deep=True).items():\n",
    "    print(f\"{param} -> {value}\")\n",
    "# linear_model.LogisticRegression.get_params().keys()"
   ]
  },
  {
   "cell_type": "markdown",
   "metadata": {},
   "source": [
    "## Learning curve"
   ]
  },
  {
   "cell_type": "code",
   "execution_count": 8,
   "metadata": {},
   "outputs": [
    {
     "data": {
      "image/png": "[encoded data removed]",
      "text/plain": [
       "<Figure size 432x288 with 1 Axes>"
      ]
     },
     "metadata": {
      "needs_background": "light"
     },
     "output_type": "display_data"
    }
   ],
   "source": [
    "train_sizes, train_scores, test_scores = learning_curve(estimator=logreg, \n",
    "                                                        X=X,y=y,\n",
    "                                                        train_sizes=np.linspace(0.1, 1.0, 10),\n",
    "                                                        cv=10,n_jobs=1,shuffle=True)\n",
    "train_mean = np.mean(train_scores, axis=1)\n",
    "train_std = np.std(train_scores, axis=1)\n",
    "test_mean = np.mean(test_scores, axis=1)\n",
    "test_std = np.std(test_scores, axis=1)\n",
    "plt.plot(train_sizes, train_mean, color='blue', marker='o', markersize=5,label='Training accuracy')\n",
    "plt.fill_between(train_sizes,train_mean + train_std,train_mean - train_std,alpha=0.15, color='blue')\n",
    "plt.plot(train_sizes, test_mean,color='green', linestyle='--',marker='s', markersize=5,label='Validation accuracy')\n",
    "plt.fill_between(train_sizes,test_mean + test_std,test_mean - test_std,alpha=0.15, color='green')\n",
    "plt.grid()\n",
    "plt.xlabel('Number of training examples')\n",
    "plt.ylabel('Accuracy')\n",
    "plt.legend(loc='lower right')\n",
    "plt.ylim([0.8, 1.03])\n",
    "plt.show()"
   ]
  },
  {
   "cell_type": "markdown",
   "metadata": {},
   "source": [
    "## Validation curve"
   ]
  },
  {
   "cell_type": "code",
   "execution_count": 35,
   "metadata": {},
   "outputs": [
    {
     "data": {
      "image/png": "[encoded data removed]",
      "text/plain": [
       "<Figure size 432x288 with 1 Axes>"
      ]
     },
     "metadata": {
      "needs_background": "light"
     },
     "output_type": "display_data"
    }
   ],
   "source": [
    "param_range = [0.1,1,10,100,1000,10000]\n",
    "train_scores, test_scores = validation_curve(estimator=logreg,X=X_train,y=y_train,\n",
    "                                             param_name='clf__C',param_range=param_range, cv=10)\n",
    "train_mean = np.mean(train_scores, axis=1)\n",
    "train_std = np.std(train_scores, axis=1)\n",
    "test_mean = np.mean(test_scores, axis=1)\n",
    "test_std = np.std(test_scores, axis=1)\n",
    "plt.plot(param_range, train_mean, color='blue', marker='o',markersize=5, label='Training accuracy')\n",
    "plt.fill_between(param_range, train_mean + train_std, train_mean - train_std, alpha=0.15, color='blue')\n",
    "plt.plot(param_range, test_mean,color='green', linestyle='--',marker='s', markersize=5,\n",
    "         label='Validation accuracy')\n",
    "plt.fill_between(param_range, test_mean + test_std,test_mean - test_std,alpha=0.15, color='green')\n",
    "plt.grid()\n",
    "plt.xscale('log')\n",
    "plt.legend(loc='lower right')\n",
    "plt.xlabel('Parameter C')\n",
    "plt.ylabel('Accuracy')\n",
    "plt.ylim([0.8, 1.0])\n",
    "plt.show()"
   ]
  },
  {
   "cell_type": "code",
   "execution_count": 39,
   "metadata": {},
   "outputs": [
    {
     "name": "stdout",
     "output_type": "stream",
     "text": [
      "memory -> None\n",
      "steps -> [('vect', CountVectorizer()), ('tfidf', TfidfTransformer()), ('clf', LogisticRegression(C=1000.0, max_iter=10000, multi_class='ovr', n_jobs=1))]\n",
      "verbose -> False\n",
      "vect -> CountVectorizer()\n",
      "tfidf -> TfidfTransformer()\n",
      "clf -> LogisticRegression(C=1000.0, max_iter=10000, multi_class='ovr', n_jobs=1)\n",
      "vect__analyzer -> word\n",
      "vect__binary -> False\n",
      "vect__decode_error -> strict\n",
      "vect__dtype -> <class 'numpy.int64'>\n",
      "vect__encoding -> utf-8\n",
      "vect__input -> content\n",
      "vect__lowercase -> True\n",
      "vect__max_df -> 1.0\n",
      "vect__max_features -> None\n",
      "vect__min_df -> 1\n",
      "vect__ngram_range -> (1, 1)\n",
      "vect__preprocessor -> None\n",
      "vect__stop_words -> None\n",
      "vect__strip_accents -> None\n",
      "vect__token_pattern -> (?u)\\b\\w\\w+\\b\n",
      "vect__tokenizer -> None\n",
      "vect__vocabulary -> None\n",
      "tfidf__norm -> l2\n",
      "tfidf__smooth_idf -> True\n",
      "tfidf__sublinear_tf -> False\n",
      "tfidf__use_idf -> True\n",
      "clf__C -> 1000.0\n",
      "clf__class_weight -> None\n",
      "clf__dual -> False\n",
      "clf__fit_intercept -> True\n",
      "clf__intercept_scaling -> 1\n",
      "clf__l1_ratio -> None\n",
      "clf__max_iter -> 10000\n",
      "clf__multi_class -> ovr\n",
      "clf__n_jobs -> 1\n",
      "clf__penalty -> l2\n",
      "clf__random_state -> None\n",
      "clf__solver -> lbfgs\n",
      "clf__tol -> 0.0001\n",
      "clf__verbose -> 0\n",
      "clf__warm_start -> False\n"
     ]
    }
   ],
   "source": []
  },
  {
   "cell_type": "markdown",
   "metadata": {},
   "source": [
    "# Review statistics"
   ]
  },
  {
   "cell_type": "code",
   "execution_count": 30,
   "metadata": {},
   "outputs": [
    {
     "name": "stdout",
     "output_type": "stream",
     "text": [
      "<class 'pandas.core.frame.DataFrame'>\n",
      "RangeIndex: 6262 entries, 0 to 6261\n",
      "Data columns (total 6 columns):\n",
      " #   Column         Non-Null Count  Dtype  \n",
      "---  ------         --------------  -----  \n",
      " 0   conditionName  6262 non-null   object \n",
      " 1   predictedTag   6262 non-null   object \n",
      " 2   Unnamed: 0     6262 non-null   int64  \n",
      " 3   Unnamed: 0.1   5672 non-null   float64\n",
      " 4   source         6262 non-null   int64  \n",
      " 5   sentence       6262 non-null   int64  \n",
      "dtypes: float64(1), int64(3), object(2)\n",
      "memory usage: 293.7+ KB\n"
     ]
    }
   ],
   "source": [
    "dfstats = pd.read_csv('02LR/02'+str(date.today())+'_GroupedPredicted.csv')\n",
    "dfstats.info()"
   ]
  },
  {
   "cell_type": "code",
   "execution_count": 31,
   "metadata": {},
   "outputs": [
    {
     "data": {
      "text/html": [
       "<div>\n",
       "<style scoped>\n",
       "    .dataframe tbody tr th:only-of-type {\n",
       "        vertical-align: middle;\n",
       "    }\n",
       "\n",
       "    .dataframe tbody tr th {\n",
       "        vertical-align: top;\n",
       "    }\n",
       "\n",
       "    .dataframe thead th {\n",
       "        text-align: right;\n",
       "    }\n",
       "</style>\n",
       "<table border=\"1\" class=\"dataframe\">\n",
       "  <thead>\n",
       "    <tr style=\"text-align: right;\">\n",
       "      <th></th>\n",
       "      <th>conditionName</th>\n",
       "      <th>predictedTag</th>\n",
       "      <th>Unnamed: 0</th>\n",
       "      <th>Unnamed: 0.1</th>\n",
       "      <th>source</th>\n",
       "      <th>sentence</th>\n",
       "    </tr>\n",
       "  </thead>\n",
       "  <tbody>\n",
       "    <tr>\n",
       "      <th>0</th>\n",
       "      <td>AAA</td>\n",
       "      <td>IMPROVE MODERATELY FROM * WEEK TO * MONTH</td>\n",
       "      <td>2</td>\n",
       "      <td>2.0</td>\n",
       "      <td>2</td>\n",
       "      <td>2</td>\n",
       "    </tr>\n",
       "    <tr>\n",
       "      <th>1</th>\n",
       "      <td>AAA</td>\n",
       "      <td>IMPROVE MODERATELY FROM * WEEK TO * WEEK</td>\n",
       "      <td>1</td>\n",
       "      <td>1.0</td>\n",
       "      <td>1</td>\n",
       "      <td>1</td>\n",
       "    </tr>\n",
       "    <tr>\n",
       "      <th>2</th>\n",
       "      <td>AAA</td>\n",
       "      <td>NONE</td>\n",
       "      <td>115</td>\n",
       "      <td>115.0</td>\n",
       "      <td>115</td>\n",
       "      <td>115</td>\n",
       "    </tr>\n",
       "    <tr>\n",
       "      <th>3</th>\n",
       "      <td>AAA screening</td>\n",
       "      <td>IMPROVE FAST FROM * MINUTES TO * MINUTES</td>\n",
       "      <td>1</td>\n",
       "      <td>1.0</td>\n",
       "      <td>1</td>\n",
       "      <td>1</td>\n",
       "    </tr>\n",
       "    <tr>\n",
       "      <th>4</th>\n",
       "      <td>AAA screening</td>\n",
       "      <td>IMPROVE MODERATELY FROM * WEEK TO * WEEK</td>\n",
       "      <td>1</td>\n",
       "      <td>1.0</td>\n",
       "      <td>1</td>\n",
       "      <td>1</td>\n",
       "    </tr>\n",
       "  </tbody>\n",
       "</table>\n",
       "</div>"
      ],
      "text/plain": [
       "   conditionName                               predictedTag  Unnamed: 0  \\\n",
       "0            AAA  IMPROVE MODERATELY FROM * WEEK TO * MONTH           2   \n",
       "1            AAA   IMPROVE MODERATELY FROM * WEEK TO * WEEK           1   \n",
       "2            AAA                                       NONE         115   \n",
       "3  AAA screening   IMPROVE FAST FROM * MINUTES TO * MINUTES           1   \n",
       "4  AAA screening   IMPROVE MODERATELY FROM * WEEK TO * WEEK           1   \n",
       "\n",
       "   Unnamed: 0.1  source  sentence  \n",
       "0           2.0       2         2  \n",
       "1           1.0       1         1  \n",
       "2         115.0     115       115  \n",
       "3           1.0       1         1  \n",
       "4           1.0       1         1  "
      ]
     },
     "execution_count": 31,
     "metadata": {},
     "output_type": "execute_result"
    }
   ],
   "source": [
    "dfstats.head()"
   ]
  },
  {
   "cell_type": "code",
   "execution_count": 32,
   "metadata": {},
   "outputs": [
    {
     "name": "stdout",
     "output_type": "stream",
     "text": [
      "                             conditionName  numberOfTags\n",
      "0                                  Obesity            11\n",
      "1                   Traumatic brain injury            11\n",
      "2                              Common cold            10\n",
      "3                               Meningitis            10\n",
      "4                               Concussion            10\n",
      "...                                    ...           ...\n",
      "2019       Primary lateral sclerosis (PLS)             1\n",
      "2020              Body dysmorphic disorder             1\n",
      "2021  Hip pain in children (irritable hip)             1\n",
      "2022             Maple syrup urine disease             1\n",
      "2023                            Asperger's             1\n",
      "\n",
      "[2024 rows x 2 columns]\n"
     ]
    }
   ],
   "source": [
    "#number of tags by condition\n",
    "dftbc = dfstats['conditionName'].value_counts().reset_index()#.to_dict()\n",
    "dftbc.columns = ['conditionName', 'numberOfTags']\n",
    "print(dftbc)"
   ]
  },
  {
   "cell_type": "code",
   "execution_count": 33,
   "metadata": {},
   "outputs": [
    {
     "name": "stdout",
     "output_type": "stream",
     "text": [
      "                                       tagName  numberOfConditions\n",
      "0                                         NONE                2024\n",
      "1                                    PERMANENT                1103\n",
      "2     IMPROVE MODERATELY FROM * WEEK TO * WEEK                 507\n",
      "3                          IMPROVE IMMEDIATELY                 458\n",
      "4             IMPROVE FAST FROM * DAY TO * DAY                 364\n",
      "5                    IMPROVE FAST WITHIN * DAY                 322\n",
      "6             IMPROVE MODERATELY WITHIN * WEEK                 269\n",
      "7                   DECLINE SLOWLY OVER * YEAR                 245\n",
      "8                   IMPROVE SLOWLY OVER * YEAR                 131\n",
      "9       IMPROVE FAST FROM * MINUTES TO * HOURS                 104\n",
      "10      IMPROVE MODERATELY FROM * DAY TO * DAY                  87\n",
      "11  IMPROVE MODERATELY FROM * MONTH TO * MONTH                  82\n",
      "12           IMPROVE MODERATELY WITHIN * MONTH                  78\n",
      "13               IMPROVE FAST WITHIN * MINUTES                  72\n",
      "14    IMPROVE FAST FROM * MINUTES TO * MINUTES                  70\n",
      "15     IMPROVE MODERATELY FROM * DAY TO * WEEK                  69\n",
      "16                  IMPROVE FAST WITHIN * WEEK                  59\n",
      "17   IMPROVE MODERATELY FROM * WEEK TO * MONTH                  58\n",
      "18      IMPROVE SLOWLY FROM * MONTH TO * MONTH                  45\n",
      "19                IMPROVE SLOWLY WITHIN * YEAR                  41\n",
      "20       IMPROVE SLOWLY FROM * MONTH TO * YEAR                  30\n",
      "21               IMPROVE SLOWLY WITHIN * MONTH                  28\n",
      "22                DECLINE FAST WITHIN * MONTHS                   4\n",
      "23                 IMPROVE FAST WITHIN * HOURS                   4\n",
      "24             IMPROVE MODERATELY WITHIN * DAY                   4\n",
      "25                  DECLINE FAST WITHIN * YEAR                   2\n",
      "26           IMPROVE FAST FROM * HOUR TO * DAY                   2\n"
     ]
    }
   ],
   "source": [
    "#number conditions per tag\n",
    "dfcpt = dfstats['predictedTag'].value_counts().reset_index()#.to_dict()\n",
    "dfcpt.columns = ['tagName', 'numberOfConditions']\n",
    "dfcpt.to_csv('02LR/02LR'+str(date.today())+'_numberOfConditionsPerTag.csv')\n",
    "print(dfcpt)"
   ]
  },
  {
   "cell_type": "code",
   "execution_count": 34,
   "metadata": {},
   "outputs": [
    {
     "data": {
      "image/png": "[encoded data removed]",
      "text/plain": [
       "<Figure size 1080x720 with 1 Axes>"
      ]
     },
     "metadata": {
      "needs_background": "light"
     },
     "output_type": "display_data"
    }
   ],
   "source": [
    "#fig = plt.figure(figsize=(20,15))\n",
    "#fig = plt.figure()\n",
    "ax = dfcpt.plot.barh(x='tagName',subplots=True,figsize=(15,10))#ylim=0)\n",
    "#plt.show()"
   ]
  },
  {
   "cell_type": "code",
   "execution_count": 35,
   "metadata": {},
   "outputs": [
    {
     "name": "stdout",
     "output_type": "stream",
     "text": [
      "<class 'pandas.core.frame.DataFrame'>\n",
      "Int64Index: 11 entries, 1 to 11\n",
      "Data columns (total 1 columns):\n",
      " #   Column         Non-Null Count  Dtype\n",
      "---  ------         --------------  -----\n",
      " 0   conditionName  11 non-null     int64\n",
      "dtypes: int64(1)\n",
      "memory usage: 176.0 bytes\n",
      "<class 'pandas.core.frame.DataFrame'>\n"
     ]
    }
   ],
   "source": [
    "#total number of conditions that have N tags, \n",
    "#for example: 250 conditions have 1 tag, 494 have 2 tags\n",
    "dfbynt = dftbc.groupby(['numberOfTags'],dropna=False).count()\n",
    "dfbynt.info()\n",
    "print(type(dfbynt))"
   ]
  },
  {
   "cell_type": "code",
   "execution_count": 36,
   "metadata": {},
   "outputs": [
    {
     "data": {
      "text/html": [
       "<div>\n",
       "<style scoped>\n",
       "    .dataframe tbody tr th:only-of-type {\n",
       "        vertical-align: middle;\n",
       "    }\n",
       "\n",
       "    .dataframe tbody tr th {\n",
       "        vertical-align: top;\n",
       "    }\n",
       "\n",
       "    .dataframe thead th {\n",
       "        text-align: right;\n",
       "    }\n",
       "</style>\n",
       "<table border=\"1\" class=\"dataframe\">\n",
       "  <thead>\n",
       "    <tr style=\"text-align: right;\">\n",
       "      <th></th>\n",
       "      <th>conditionName</th>\n",
       "    </tr>\n",
       "    <tr>\n",
       "      <th>numberOfTags</th>\n",
       "      <th></th>\n",
       "    </tr>\n",
       "  </thead>\n",
       "  <tbody>\n",
       "    <tr>\n",
       "      <th>1</th>\n",
       "      <td>331</td>\n",
       "    </tr>\n",
       "    <tr>\n",
       "      <th>2</th>\n",
       "      <td>523</td>\n",
       "    </tr>\n",
       "    <tr>\n",
       "      <th>3</th>\n",
       "      <td>496</td>\n",
       "    </tr>\n",
       "    <tr>\n",
       "      <th>4</th>\n",
       "      <td>299</td>\n",
       "    </tr>\n",
       "    <tr>\n",
       "      <th>5</th>\n",
       "      <td>187</td>\n",
       "    </tr>\n",
       "    <tr>\n",
       "      <th>6</th>\n",
       "      <td>113</td>\n",
       "    </tr>\n",
       "    <tr>\n",
       "      <th>7</th>\n",
       "      <td>38</td>\n",
       "    </tr>\n",
       "    <tr>\n",
       "      <th>8</th>\n",
       "      <td>21</td>\n",
       "    </tr>\n",
       "    <tr>\n",
       "      <th>9</th>\n",
       "      <td>8</td>\n",
       "    </tr>\n",
       "    <tr>\n",
       "      <th>10</th>\n",
       "      <td>6</td>\n",
       "    </tr>\n",
       "  </tbody>\n",
       "</table>\n",
       "</div>"
      ],
      "text/plain": [
       "              conditionName\n",
       "numberOfTags               \n",
       "1                       331\n",
       "2                       523\n",
       "3                       496\n",
       "4                       299\n",
       "5                       187\n",
       "6                       113\n",
       "7                        38\n",
       "8                        21\n",
       "9                         8\n",
       "10                        6"
      ]
     },
     "execution_count": 36,
     "metadata": {},
     "output_type": "execute_result"
    }
   ],
   "source": [
    "dfbynt.head(10)"
   ]
  },
  {
   "cell_type": "code",
   "execution_count": 37,
   "metadata": {},
   "outputs": [
    {
     "data": {
      "image/png": "[encoded data removed]",
      "text/plain": [
       "<Figure size 576x360 with 1 Axes>"
      ]
     },
     "metadata": {
      "needs_background": "light"
     },
     "output_type": "display_data"
    }
   ],
   "source": [
    "ax = dfbynt.plot.barh(y='conditionName',subplots=True,figsize=(8,5))#ylim=0)\n",
    "#plt.show()"
   ]
  },
  {
   "cell_type": "code",
   "execution_count": 56,
   "metadata": {},
   "outputs": [
    {
     "name": "stdout",
     "output_type": "stream",
     "text": [
      "                            conditionName  \\\n",
      "4                           AAA screening   \n",
      "5                           AAA screening   \n",
      "6                           AAA screening   \n",
      "16    Abdominal aortic aneurysm screening   \n",
      "17    Abdominal aortic aneurysm screening   \n",
      "...                                   ...   \n",
      "6498                                X-ray   \n",
      "6499                                X-ray   \n",
      "6510                           Zika virus   \n",
      "6511                           Zika virus   \n",
      "6512                           Zika virus   \n",
      "\n",
      "                                    predictedTag  Unnamed: 0  Unnamed: 0.1  \\\n",
      "4       IMPROVE FAST FROM * MINUTES TO * MINUTES           1           1.0   \n",
      "5       IMPROVE MODERATELY FROM * WEEK TO * WEEK           1           1.0   \n",
      "6                                           NONE          80          80.0   \n",
      "16      IMPROVE FAST FROM * MINUTES TO * MINUTES           1           1.0   \n",
      "17      IMPROVE MODERATELY FROM * WEEK TO * WEEK           1           1.0   \n",
      "...                                          ...         ...           ...   \n",
      "6498    IMPROVE MODERATELY FROM * WEEK TO * WEEK           1           NaN   \n",
      "6499                                        NONE          65           NaN   \n",
      "6510                         IMPROVE IMMEDIATELY           1           NaN   \n",
      "6511  IMPROVE MODERATELY FROM * MONTH TO * MONTH           1           NaN   \n",
      "6512                                        NONE         207           NaN   \n",
      "\n",
      "      source  sentence  \n",
      "4          1         1  \n",
      "5          1         1  \n",
      "6         80        80  \n",
      "16         1         1  \n",
      "17         1         1  \n",
      "...      ...       ...  \n",
      "6498       1         1  \n",
      "6499      65        65  \n",
      "6510       1         1  \n",
      "6511       1         1  \n",
      "6512     207       207  \n",
      "\n",
      "[1476 rows x 6 columns]\n"
     ]
    }
   ],
   "source": [
    "#Filtering conditions by # of tags: \n",
    "dfbynt = dfstats[dfstats.conditionName.isin(dftbc.query('numberOfTags==3').conditionName)]\n",
    "print(dfbynt)"
   ]
  },
  {
   "cell_type": "code",
   "execution_count": 57,
   "metadata": {},
   "outputs": [
    {
     "name": "stdout",
     "output_type": "stream",
     "text": [
      "                       conditionName  numberOfTags\n",
      "1236              Small bowel cancer             2\n",
      "1237  Prosopagnosia (face blindness)             2\n",
      "1238                  Rhesus disease             2\n",
      "1239                 Fits (seizures)             2\n",
      "1240                        Clubfoot             2\n",
      "...                              ...           ...\n",
      "1755              Gallbladder cancer             2\n",
      "1756             Mesenteric ischemia             2\n",
      "1757              Hip pain in adults             2\n",
      "1758              Testicular torsion             2\n",
      "1759       Interstitial lung disease             2\n",
      "\n",
      "[524 rows x 2 columns]\n"
     ]
    }
   ],
   "source": [
    "df_filtered = dftbc.query('numberOfTags==2')\n",
    "print(df_filtered)"
   ]
  },
  {
   "cell_type": "code",
   "execution_count": 58,
   "metadata": {},
   "outputs": [
    {
     "name": "stdout",
     "output_type": "stream",
     "text": [
      "                   conditionName predictedTag  Unnamed: 0  Unnamed: 0.1  \\\n",
      "3                            AAA         NONE         114         114.0   \n",
      "6                  AAA screening         NONE          80          80.0   \n",
      "8                     ACL injury         NONE         110         110.0   \n",
      "9                           ARDS         NONE         113         113.0   \n",
      "15     Abdominal aortic aneurysm         NONE         250         250.0   \n",
      "...                          ...          ...         ...           ...   \n",
      "6500   Yeast infection (vaginal)         NONE         119           NaN   \n",
      "6506                Yellow fever         NONE         179           NaN   \n",
      "6509                        Yips         NONE          49           NaN   \n",
      "6512                  Zika virus         NONE         207           NaN   \n",
      "6513  Zollinger-Ellison syndrome         NONE         113           NaN   \n",
      "\n",
      "      source  sentence  \n",
      "3        114       114  \n",
      "6         80        80  \n",
      "8        110       110  \n",
      "9        113       113  \n",
      "15       250       250  \n",
      "...      ...       ...  \n",
      "6500     119       119  \n",
      "6506     179       179  \n",
      "6509      49        49  \n",
      "6512     207       207  \n",
      "6513     113       113  \n",
      "\n",
      "[2024 rows x 6 columns]\n",
      "<class 'pandas.core.frame.DataFrame'>\n",
      "Int64Index: 2024 entries, 3 to 6513\n",
      "Data columns (total 6 columns):\n",
      " #   Column         Non-Null Count  Dtype  \n",
      "---  ------         --------------  -----  \n",
      " 0   conditionName  2024 non-null   object \n",
      " 1   predictedTag   2024 non-null   object \n",
      " 2   Unnamed: 0     2024 non-null   int64  \n",
      " 3   Unnamed: 0.1   1831 non-null   float64\n",
      " 4   source         2024 non-null   int64  \n",
      " 5   sentence       2024 non-null   int64  \n",
      "dtypes: float64(1), int64(3), object(2)\n",
      "memory usage: 110.7+ KB\n"
     ]
    }
   ],
   "source": [
    "df_filtered = dfstats.query('predictedTag==\"NONE\"')\n",
    "print(df_filtered)\n",
    "df_filtered.info()"
   ]
  },
  {
   "cell_type": "markdown",
   "metadata": {},
   "source": [
    "#### Filter all the sentences that are different from NONE"
   ]
  },
  {
   "cell_type": "code",
   "execution_count": 59,
   "metadata": {},
   "outputs": [
    {
     "name": "stdout",
     "output_type": "stream",
     "text": [
      "0\n",
      "1\n",
      "2\n",
      "3\n",
      "4\n",
      "5\n",
      "6\n",
      "7\n",
      "8\n",
      "9\n",
      "10\n"
     ]
    }
   ],
   "source": [
    "#testSet reading the sentences that do not have a tag\n",
    "for i in range(0,11,1):\n",
    "    print(i)\n",
    "    dfresults = pd.read_csv('02LR/'+str(date.today())+'_predictedSet'+str(i)+'.csv')\n",
    "    dffilt = dfresults.query('predictedTag!=\"NONE\"')\n",
    "    \n",
    "    if dffilt.empty == False:\n",
    "        res = dffilt\n",
    "        res.reset_index()\n",
    "    else:\n",
    "        dffilt.reset_index()\n",
    "        res = res.append(dffilt)\n",
    "\n",
    "res.to_csv('02LR/02'+str(date.today())+'_AllExceptNone.csv')\n"
   ]
  },
  {
   "cell_type": "code",
   "execution_count": 60,
   "metadata": {},
   "outputs": [],
   "source": [
    "dfe = pd.read_csv('02LR/02'+str(date.today())+'_AllExceptNone.csv')\n",
    "dfe.sort_values(['predictedTag','sentence'],  \n",
    "               ascending=[True, \n",
    "                          True],inplace=True,ignore_index=True)\n",
    "dfe.to_csv('02LR/02'+str(date.today())+'_AllExceptNone.csv')"
   ]
  },
  {
   "cell_type": "code",
   "execution_count": null,
   "metadata": {},
   "outputs": [],
   "source": []
  }
 ],
 "metadata": {
  "kernelspec": {
   "display_name": "Python 3",
   "language": "python",
   "name": "python3"
  },
  "language_info": {
   "codemirror_mode": {
    "name": "ipython",
    "version": 3
   },
   "file_extension": ".py",
   "mimetype": "text/x-python",
   "name": "python",
   "nbconvert_exporter": "python",
   "pygments_lexer": "ipython3",
   "version": "3.8.6"
  }
 },
 "nbformat": 4,
 "nbformat_minor": 4
}
