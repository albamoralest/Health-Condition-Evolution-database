{
 "cells": [
  {
   "cell_type": "markdown",
   "metadata": {},
   "source": [
    "# Prepare data for training\n",
    "## Second level, tree classes: SLOWLY, MODERATELY, FAST"
   ]
  },
  {
   "cell_type": "code",
   "execution_count": 46,
   "metadata": {},
   "outputs": [],
   "source": [
    "import pandas as pd\n",
    "from _datetime import date\n",
    "import matplotlib.pyplot as plt\n",
    "import seaborn as sns"
   ]
  },
  {
   "cell_type": "code",
   "execution_count": 47,
   "metadata": {},
   "outputs": [
    {
     "data": {
      "text/html": [
       "<div>\n",
       "<style scoped>\n",
       "    .dataframe tbody tr th:only-of-type {\n",
       "        vertical-align: middle;\n",
       "    }\n",
       "\n",
       "    .dataframe tbody tr th {\n",
       "        vertical-align: top;\n",
       "    }\n",
       "\n",
       "    .dataframe thead th {\n",
       "        text-align: right;\n",
       "    }\n",
       "</style>\n",
       "<table border=\"1\" class=\"dataframe\">\n",
       "  <thead>\n",
       "    <tr style=\"text-align: right;\">\n",
       "      <th></th>\n",
       "      <th>source</th>\n",
       "      <th>condition</th>\n",
       "      <th>fr0</th>\n",
       "      <th>fr1</th>\n",
       "      <th>fr2</th>\n",
       "      <th>fr3</th>\n",
       "      <th>fr4</th>\n",
       "      <th>fr5</th>\n",
       "      <th>fr6</th>\n",
       "      <th>fr7</th>\n",
       "      <th>Sentence</th>\n",
       "      <th>CEsnippet</th>\n",
       "    </tr>\n",
       "  </thead>\n",
       "  <tbody>\n",
       "    <tr>\n",
       "      <th>0</th>\n",
       "      <td>MAYO</td>\n",
       "      <td>Acute kidney failure</td>\n",
       "      <td>DECLINE</td>\n",
       "      <td>FAST</td>\n",
       "      <td>FROM</td>\n",
       "      <td>1.0</td>\n",
       "      <td>DAY</td>\n",
       "      <td>TO</td>\n",
       "      <td>1</td>\n",
       "      <td>WEEK</td>\n",
       "      <td>Acute kidney failure — also called acute renal...</td>\n",
       "      <td>Acute kidney failure — also called acute renal...</td>\n",
       "    </tr>\n",
       "    <tr>\n",
       "      <th>1</th>\n",
       "      <td>MAYO</td>\n",
       "      <td>Systemic mastocytosis</td>\n",
       "      <td>DECLINE</td>\n",
       "      <td>FAST</td>\n",
       "      <td>FROM</td>\n",
       "      <td>1.0</td>\n",
       "      <td>DAY</td>\n",
       "      <td>TO</td>\n",
       "      <td>1</td>\n",
       "      <td>WEEK</td>\n",
       "      <td>Another type, aggressive systemic mastocytosis...</td>\n",
       "      <td>Another type, aggressive systemic mastocytosis...</td>\n",
       "    </tr>\n",
       "    <tr>\n",
       "      <th>2</th>\n",
       "      <td>MAYO</td>\n",
       "      <td>Plague</td>\n",
       "      <td>DECLINE</td>\n",
       "      <td>FAST</td>\n",
       "      <td>FROM</td>\n",
       "      <td>1.0</td>\n",
       "      <td>DAY</td>\n",
       "      <td>TO</td>\n",
       "      <td>1</td>\n",
       "      <td>WEEK</td>\n",
       "      <td>Pneumonic plague progresses rapidly and may ca...</td>\n",
       "      <td>Pneumonic plague progresses rapidly and may ca...</td>\n",
       "    </tr>\n",
       "    <tr>\n",
       "      <th>3</th>\n",
       "      <td>MAYO</td>\n",
       "      <td>Dermatographia</td>\n",
       "      <td>DECLINE</td>\n",
       "      <td>FAST</td>\n",
       "      <td>FROM</td>\n",
       "      <td>1.0</td>\n",
       "      <td>DAY</td>\n",
       "      <td>TO</td>\n",
       "      <td>1</td>\n",
       "      <td>WEEK</td>\n",
       "      <td>Rarely, dermatographia develops more slowly an...</td>\n",
       "      <td>Rarely, dermatographia develops more slowly an...</td>\n",
       "    </tr>\n",
       "    <tr>\n",
       "      <th>4</th>\n",
       "      <td>NHS</td>\n",
       "      <td>Epiglottitis</td>\n",
       "      <td>DECLINE</td>\n",
       "      <td>FAST</td>\n",
       "      <td>FROM</td>\n",
       "      <td>1.0</td>\n",
       "      <td>DAY</td>\n",
       "      <td>TO</td>\n",
       "      <td>1</td>\n",
       "      <td>WEEK</td>\n",
       "      <td>The symptoms of epiglottitis usually develop q...</td>\n",
       "      <td>The symptoms of epiglottitis usually develop q...</td>\n",
       "    </tr>\n",
       "  </tbody>\n",
       "</table>\n",
       "</div>"
      ],
      "text/plain": [
       "  source              condition      fr0   fr1   fr2  fr3  fr4 fr5 fr6   fr7  \\\n",
       "0   MAYO   Acute kidney failure  DECLINE  FAST  FROM  1.0  DAY  TO   1  WEEK   \n",
       "1   MAYO  Systemic mastocytosis  DECLINE  FAST  FROM  1.0  DAY  TO   1  WEEK   \n",
       "2   MAYO                 Plague  DECLINE  FAST  FROM  1.0  DAY  TO   1  WEEK   \n",
       "3   MAYO         Dermatographia  DECLINE  FAST  FROM  1.0  DAY  TO   1  WEEK   \n",
       "4    NHS           Epiglottitis  DECLINE  FAST  FROM  1.0  DAY  TO   1  WEEK   \n",
       "\n",
       "                                            Sentence  \\\n",
       "0  Acute kidney failure — also called acute renal...   \n",
       "1  Another type, aggressive systemic mastocytosis...   \n",
       "2  Pneumonic plague progresses rapidly and may ca...   \n",
       "3  Rarely, dermatographia develops more slowly an...   \n",
       "4  The symptoms of epiglottitis usually develop q...   \n",
       "\n",
       "                                           CEsnippet  \n",
       "0  Acute kidney failure — also called acute renal...  \n",
       "1  Another type, aggressive systemic mastocytosis...  \n",
       "2  Pneumonic plague progresses rapidly and may ca...  \n",
       "3  Rarely, dermatographia develops more slowly an...  \n",
       "4  The symptoms of epiglottitis usually develop q...  "
      ]
     },
     "execution_count": 47,
     "metadata": {},
     "output_type": "execute_result"
    }
   ],
   "source": [
    "#df = pd.read_csv('20201125_catalogueSampleSource.csv',usecols=['source','condition','fr0','fr1','fr2','fr3','fr4','fr5','fr6','fr7','CEsnippet','Sentence'])\n",
    "#df = pd.read_csv('20201211_catalogueSampleNormClasses.csv',usecols=['source','condition','fr0','fr1','fr2','fr3','fr4','fr5','fr6','fr7','CEsnippet','Sentence'])\n",
    "#df = pd.read_csv('20201216_catalogueSampleNormClasses.csv',usecols=['source','condition','fr0','fr1','fr2','fr3','fr4','fr5','fr6','fr7','CEsnippet','Sentence'])\n",
    "#df = pd.read_csv('20210106_catalogueSampleNormClasses.csv',usecols=['source','condition','fr0','fr1','fr2','fr3','fr4','fr5','fr6','fr7','CEsnippet','Sentence'])\n",
    "# df = pd.read_csv('20210116_catalogueSampleNormClasses.csv',usecols=['source','condition','fr0','fr1','fr2','fr3','fr4','fr5','fr6','fr7','CEsnippet','Sentence'])\n",
    "df = pd.read_csv('dataset/20210604_catalogueSampleNormClasses.csv',usecols=['source','condition','fr0','fr1','fr2','fr3','fr4','fr5','fr6','fr7','CEsnippet','Sentence'])\n",
    "\n",
    "df.head()"
   ]
  },
  {
   "cell_type": "code",
   "execution_count": 48,
   "metadata": {},
   "outputs": [],
   "source": [
    "df = df.query(\"fr0 != 'NONE'\")\n",
    "df = df.query(\"fr0 != 'PERMANENT'\")"
   ]
  },
  {
   "cell_type": "code",
   "execution_count": 49,
   "metadata": {},
   "outputs": [],
   "source": [
    "# df.loc[df['fr3'].isnull(),'fr3f'] = ''\n",
    "# df.loc[df['fr3'].notnull(), 'fr3f'] = ' *'\n",
    "\n",
    "# df.loc[df['fr6'].isnull(),'fr6f'] = ''\n",
    "# df.loc[df['fr6'].notnull(), 'fr6f'] = ' *'\n",
    "\n",
    "# df.head()"
   ]
  },
  {
   "cell_type": "code",
   "execution_count": 50,
   "metadata": {},
   "outputs": [
    {
     "data": {
      "text/html": [
       "<div>\n",
       "<style scoped>\n",
       "    .dataframe tbody tr th:only-of-type {\n",
       "        vertical-align: middle;\n",
       "    }\n",
       "\n",
       "    .dataframe tbody tr th {\n",
       "        vertical-align: top;\n",
       "    }\n",
       "\n",
       "    .dataframe thead th {\n",
       "        text-align: right;\n",
       "    }\n",
       "</style>\n",
       "<table border=\"1\" class=\"dataframe\">\n",
       "  <thead>\n",
       "    <tr style=\"text-align: right;\">\n",
       "      <th></th>\n",
       "      <th>source</th>\n",
       "      <th>condition</th>\n",
       "      <th>fr0</th>\n",
       "      <th>fr1</th>\n",
       "      <th>fr2</th>\n",
       "      <th>fr3</th>\n",
       "      <th>fr4</th>\n",
       "      <th>fr5</th>\n",
       "      <th>fr6</th>\n",
       "      <th>fr7</th>\n",
       "      <th>Sentence</th>\n",
       "      <th>CEsnippet</th>\n",
       "    </tr>\n",
       "  </thead>\n",
       "  <tbody>\n",
       "    <tr>\n",
       "      <th>0</th>\n",
       "      <td>MAYO</td>\n",
       "      <td>Acute kidney failure</td>\n",
       "      <td>DECLINE</td>\n",
       "      <td>FAST</td>\n",
       "      <td>FROM</td>\n",
       "      <td>1.0</td>\n",
       "      <td>DAY</td>\n",
       "      <td>TO</td>\n",
       "      <td>1</td>\n",
       "      <td>WEEK</td>\n",
       "      <td>Acute kidney failure — also called acute renal...</td>\n",
       "      <td>Acute kidney failure — also called acute renal...</td>\n",
       "    </tr>\n",
       "    <tr>\n",
       "      <th>1</th>\n",
       "      <td>MAYO</td>\n",
       "      <td>Systemic mastocytosis</td>\n",
       "      <td>DECLINE</td>\n",
       "      <td>FAST</td>\n",
       "      <td>FROM</td>\n",
       "      <td>1.0</td>\n",
       "      <td>DAY</td>\n",
       "      <td>TO</td>\n",
       "      <td>1</td>\n",
       "      <td>WEEK</td>\n",
       "      <td>Another type, aggressive systemic mastocytosis...</td>\n",
       "      <td>Another type, aggressive systemic mastocytosis...</td>\n",
       "    </tr>\n",
       "    <tr>\n",
       "      <th>2</th>\n",
       "      <td>MAYO</td>\n",
       "      <td>Plague</td>\n",
       "      <td>DECLINE</td>\n",
       "      <td>FAST</td>\n",
       "      <td>FROM</td>\n",
       "      <td>1.0</td>\n",
       "      <td>DAY</td>\n",
       "      <td>TO</td>\n",
       "      <td>1</td>\n",
       "      <td>WEEK</td>\n",
       "      <td>Pneumonic plague progresses rapidly and may ca...</td>\n",
       "      <td>Pneumonic plague progresses rapidly and may ca...</td>\n",
       "    </tr>\n",
       "    <tr>\n",
       "      <th>3</th>\n",
       "      <td>MAYO</td>\n",
       "      <td>Dermatographia</td>\n",
       "      <td>DECLINE</td>\n",
       "      <td>FAST</td>\n",
       "      <td>FROM</td>\n",
       "      <td>1.0</td>\n",
       "      <td>DAY</td>\n",
       "      <td>TO</td>\n",
       "      <td>1</td>\n",
       "      <td>WEEK</td>\n",
       "      <td>Rarely, dermatographia develops more slowly an...</td>\n",
       "      <td>Rarely, dermatographia develops more slowly an...</td>\n",
       "    </tr>\n",
       "    <tr>\n",
       "      <th>4</th>\n",
       "      <td>NHS</td>\n",
       "      <td>Epiglottitis</td>\n",
       "      <td>DECLINE</td>\n",
       "      <td>FAST</td>\n",
       "      <td>FROM</td>\n",
       "      <td>1.0</td>\n",
       "      <td>DAY</td>\n",
       "      <td>TO</td>\n",
       "      <td>1</td>\n",
       "      <td>WEEK</td>\n",
       "      <td>The symptoms of epiglottitis usually develop q...</td>\n",
       "      <td>The symptoms of epiglottitis usually develop q...</td>\n",
       "    </tr>\n",
       "  </tbody>\n",
       "</table>\n",
       "</div>"
      ],
      "text/plain": [
       "  source              condition      fr0   fr1   fr2  fr3  fr4 fr5 fr6   fr7  \\\n",
       "0   MAYO   Acute kidney failure  DECLINE  FAST  FROM  1.0  DAY  TO   1  WEEK   \n",
       "1   MAYO  Systemic mastocytosis  DECLINE  FAST  FROM  1.0  DAY  TO   1  WEEK   \n",
       "2   MAYO                 Plague  DECLINE  FAST  FROM  1.0  DAY  TO   1  WEEK   \n",
       "3   MAYO         Dermatographia  DECLINE  FAST  FROM  1.0  DAY  TO   1  WEEK   \n",
       "4    NHS           Epiglottitis  DECLINE  FAST  FROM  1.0  DAY  TO   1  WEEK   \n",
       "\n",
       "                                            Sentence  \\\n",
       "0  Acute kidney failure — also called acute renal...   \n",
       "1  Another type, aggressive systemic mastocytosis...   \n",
       "2  Pneumonic plague progresses rapidly and may ca...   \n",
       "3  Rarely, dermatographia develops more slowly an...   \n",
       "4  The symptoms of epiglottitis usually develop q...   \n",
       "\n",
       "                                           CEsnippet  \n",
       "0  Acute kidney failure — also called acute renal...  \n",
       "1  Another type, aggressive systemic mastocytosis...  \n",
       "2  Pneumonic plague progresses rapidly and may ca...  \n",
       "3  Rarely, dermatographia develops more slowly an...  \n",
       "4  The symptoms of epiglottitis usually develop q...  "
      ]
     },
     "execution_count": 50,
     "metadata": {},
     "output_type": "execute_result"
    }
   ],
   "source": [
    "#df['reviewedTag'] = df.fr0 + (' ' + df.fr1).fillna('')#+ (' ' + df.fr2).fillna('') + df.fr3f+ (' ' + df.fr4).fillna('')+ (' ' + df.fr5).fillna('')+ df.fr6f+ (' ' + df.fr7).fillna('')\n",
    "#print(df.reviewedTag[0:3])\n",
    "df.head()"
   ]
  },
  {
   "cell_type": "code",
   "execution_count": 51,
   "metadata": {},
   "outputs": [
    {
     "name": "stdout",
     "output_type": "stream",
     "text": [
      "<class 'pandas.core.frame.DataFrame'>\n",
      "Int64Index: 409 entries, 0 to 408\n",
      "Data columns (total 12 columns):\n",
      " #   Column     Non-Null Count  Dtype  \n",
      "---  ------     --------------  -----  \n",
      " 0   source     409 non-null    object \n",
      " 1   condition  409 non-null    object \n",
      " 2   fr0        409 non-null    object \n",
      " 3   fr1        409 non-null    object \n",
      " 4   fr2        409 non-null    object \n",
      " 5   fr3        409 non-null    float64\n",
      " 6   fr4        409 non-null    object \n",
      " 7   fr5        409 non-null    object \n",
      " 8   fr6        409 non-null    object \n",
      " 9   fr7        409 non-null    object \n",
      " 10  Sentence   409 non-null    object \n",
      " 11  CEsnippet  407 non-null    object \n",
      "dtypes: float64(1), object(11)\n",
      "memory usage: 41.5+ KB\n"
     ]
    },
    {
     "data": {
      "text/plain": [
       "MODERATELY    165\n",
       "SLOWLY        127\n",
       "FAST          117\n",
       "Name: fr1, dtype: int64"
      ]
     },
     "execution_count": 51,
     "metadata": {},
     "output_type": "execute_result"
    }
   ],
   "source": [
    "df.info()\n",
    "df.fr1.value_counts(dropna=False)"
   ]
  },
  {
   "cell_type": "code",
   "execution_count": 52,
   "metadata": {},
   "outputs": [
    {
     "name": "stdout",
     "output_type": "stream",
     "text": [
      "<class 'pandas.core.frame.DataFrame'>\n",
      "Int64Index: 405 entries, 0 to 408\n",
      "Data columns (total 12 columns):\n",
      " #   Column     Non-Null Count  Dtype  \n",
      "---  ------     --------------  -----  \n",
      " 0   source     405 non-null    object \n",
      " 1   condition  405 non-null    object \n",
      " 2   fr0        405 non-null    object \n",
      " 3   fr1        405 non-null    object \n",
      " 4   fr2        405 non-null    object \n",
      " 5   fr3        405 non-null    float64\n",
      " 6   fr4        405 non-null    object \n",
      " 7   fr5        405 non-null    object \n",
      " 8   fr6        405 non-null    object \n",
      " 9   fr7        405 non-null    object \n",
      " 10  Sentence   405 non-null    object \n",
      " 11  CEsnippet  403 non-null    object \n",
      "dtypes: float64(1), object(11)\n",
      "memory usage: 41.1+ KB\n"
     ]
    },
    {
     "data": {
      "text/plain": [
       "MODERATELY    162\n",
       "SLOWLY        126\n",
       "FAST          117\n",
       "Name: fr1, dtype: int64"
      ]
     },
     "execution_count": 52,
     "metadata": {},
     "output_type": "execute_result"
    }
   ],
   "source": [
    "df.drop_duplicates(subset=['Sentence'], keep = \"first\", inplace = True)\n",
    "df.info()\n",
    "df.fr1.value_counts(dropna=False)"
   ]
  },
  {
   "cell_type": "code",
   "execution_count": 53,
   "metadata": {},
   "outputs": [
    {
     "data": {
      "text/html": [
       "<div>\n",
       "<style scoped>\n",
       "    .dataframe tbody tr th:only-of-type {\n",
       "        vertical-align: middle;\n",
       "    }\n",
       "\n",
       "    .dataframe tbody tr th {\n",
       "        vertical-align: top;\n",
       "    }\n",
       "\n",
       "    .dataframe thead th {\n",
       "        text-align: right;\n",
       "    }\n",
       "</style>\n",
       "<table border=\"1\" class=\"dataframe\">\n",
       "  <thead>\n",
       "    <tr style=\"text-align: right;\">\n",
       "      <th></th>\n",
       "      <th>source</th>\n",
       "      <th>condition</th>\n",
       "      <th>CEsnippet</th>\n",
       "      <th>Sentence</th>\n",
       "      <th>newTag</th>\n",
       "    </tr>\n",
       "  </thead>\n",
       "  <tbody>\n",
       "    <tr>\n",
       "      <th>0</th>\n",
       "      <td>MAYO</td>\n",
       "      <td>Acute kidney failure</td>\n",
       "      <td>Acute kidney failure — also called acute renal...</td>\n",
       "      <td>Acute kidney failure — also called acute renal...</td>\n",
       "      <td>FAST</td>\n",
       "    </tr>\n",
       "    <tr>\n",
       "      <th>1</th>\n",
       "      <td>MAYO</td>\n",
       "      <td>Systemic mastocytosis</td>\n",
       "      <td>Another type, aggressive systemic mastocytosis...</td>\n",
       "      <td>Another type, aggressive systemic mastocytosis...</td>\n",
       "      <td>FAST</td>\n",
       "    </tr>\n",
       "    <tr>\n",
       "      <th>2</th>\n",
       "      <td>MAYO</td>\n",
       "      <td>Plague</td>\n",
       "      <td>Pneumonic plague progresses rapidly and may ca...</td>\n",
       "      <td>Pneumonic plague progresses rapidly and may ca...</td>\n",
       "      <td>FAST</td>\n",
       "    </tr>\n",
       "    <tr>\n",
       "      <th>3</th>\n",
       "      <td>MAYO</td>\n",
       "      <td>Dermatographia</td>\n",
       "      <td>Rarely, dermatographia develops more slowly an...</td>\n",
       "      <td>Rarely, dermatographia develops more slowly an...</td>\n",
       "      <td>FAST</td>\n",
       "    </tr>\n",
       "    <tr>\n",
       "      <th>4</th>\n",
       "      <td>NHS</td>\n",
       "      <td>Epiglottitis</td>\n",
       "      <td>The symptoms of epiglottitis usually develop q...</td>\n",
       "      <td>The symptoms of epiglottitis usually develop q...</td>\n",
       "      <td>FAST</td>\n",
       "    </tr>\n",
       "  </tbody>\n",
       "</table>\n",
       "</div>"
      ],
      "text/plain": [
       "  source              condition  \\\n",
       "0   MAYO   Acute kidney failure   \n",
       "1   MAYO  Systemic mastocytosis   \n",
       "2   MAYO                 Plague   \n",
       "3   MAYO         Dermatographia   \n",
       "4    NHS           Epiglottitis   \n",
       "\n",
       "                                           CEsnippet  \\\n",
       "0  Acute kidney failure — also called acute renal...   \n",
       "1  Another type, aggressive systemic mastocytosis...   \n",
       "2  Pneumonic plague progresses rapidly and may ca...   \n",
       "3  Rarely, dermatographia develops more slowly an...   \n",
       "4  The symptoms of epiglottitis usually develop q...   \n",
       "\n",
       "                                            Sentence newTag  \n",
       "0  Acute kidney failure — also called acute renal...   FAST  \n",
       "1  Another type, aggressive systemic mastocytosis...   FAST  \n",
       "2  Pneumonic plague progresses rapidly and may ca...   FAST  \n",
       "3  Rarely, dermatographia develops more slowly an...   FAST  \n",
       "4  The symptoms of epiglottitis usually develop q...   FAST  "
      ]
     },
     "execution_count": 53,
     "metadata": {},
     "output_type": "execute_result"
    }
   ],
   "source": [
    "df['newTag'] = df['fr1']\n",
    "col = ['source','condition','CEsnippet','Sentence','newTag']\n",
    "df = df[col]\n",
    "\n",
    "df.columns\n",
    "df.head()"
   ]
  },
  {
   "cell_type": "code",
   "execution_count": 54,
   "metadata": {},
   "outputs": [],
   "source": [
    "df.to_csv('dataset/'+str(date.today())+'_datasetSecondLevel.csv', index = False)"
   ]
  },
  {
   "cell_type": "code",
   "execution_count": 55,
   "metadata": {},
   "outputs": [
    {
     "data": {
      "text/plain": [
       "Text(0.5, 1.0, 'Number of sentences per class')"
      ]
     },
     "execution_count": 55,
     "metadata": {},
     "output_type": "execute_result"
    },
    {
     "data": {
      "image/png": "[encoded data removed]",
      "text/plain": [
       "<Figure size 432x288 with 1 Axes>"
      ]
     },
     "metadata": {
      "needs_background": "light"
     },
     "output_type": "display_data"
    }
   ],
   "source": [
    "sns.countplot(x=df.newTag, data=df)\n",
    "plt.xlabel('Classes')\n",
    "plt.title('Number of sentences per class')"
   ]
  },
  {
   "cell_type": "code",
   "execution_count": 56,
   "metadata": {},
   "outputs": [
    {
     "name": "stdout",
     "output_type": "stream",
     "text": [
      "            Count  Proportion\n",
      "MODERATELY    162    0.400000\n",
      "SLOWLY        126    0.311111\n",
      "FAST          117    0.288889\n"
     ]
    }
   ],
   "source": [
    "p = df['newTag'].value_counts()#.to_dict()\n",
    "q = df['newTag'].value_counts(normalize=True)\n",
    "r = pd.concat([p.rename('Count'),q.rename('Proportion')],axis=1)\n",
    "print(r)"
   ]
  },
  {
   "cell_type": "code",
   "execution_count": null,
   "metadata": {},
   "outputs": [],
   "source": []
  },
  {
   "cell_type": "code",
   "execution_count": null,
   "metadata": {},
   "outputs": [],
   "source": []
  }
 ],
 "metadata": {
  "kernelspec": {
   "display_name": "Python 3",
   "language": "python",
   "name": "python3"
  },
  "language_info": {
   "codemirror_mode": {
    "name": "ipython",
    "version": 3
   },
   "file_extension": ".py",
   "mimetype": "text/x-python",
   "name": "python",
   "nbconvert_exporter": "python",
   "pygments_lexer": "ipython3",
   "version": "3.8.6"
  }
 },
 "nbformat": 4,
 "nbformat_minor": 4
}
